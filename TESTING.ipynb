{
 "cells": [
  {
   "cell_type": "markdown",
   "metadata": {},
   "source": [
    "## ALl important codes"
   ]
  },
  {
   "cell_type": "code",
   "execution_count": null,
   "metadata": {},
   "outputs": [],
   "source": [
    "# fliping a numpy array\n",
    "arr=numpy.flipud(arr)#Flip an array vertically.\n",
    "arr=numpy.flip(arr)#Reverse the order of elements in an array along the given axis.\n",
    "arr=numpy.fliplr(arr)#Flip an array horizontally.\n",
    "\n",
    "\n",
    "#find the type of a variable\n",
    "x=type(variable)\n",
    "\n",
    "\n",
    "#Load an image from directory\n",
    "from keras.preprocessing import image\n",
    "test_image = image.load_img(filename, target_size=(45, 45, 3))\n",
    "\n",
    "\n",
    "#Convert image to numpy array\n",
    "test_image = image.img_to_array(test_image)\n",
    "\n",
    "#Convert Numpy array to PIL image\n",
    "\n",
    "\n",
    "\n",
    "#Expand dimensions of a numpy array \n",
    "import numpy as np\n",
    "test_image = np.expand_dims(test_image, axis=0)\n",
    "\n",
    "\n",
    "#Display a plot by giving numpy array as argument\n",
    "import matplotlib.pyplot as plt\n",
    "plt.imshow(array)\n",
    "plt.show()\n"
   ]
  },
  {
   "cell_type": "markdown",
   "metadata": {},
   "source": [
    "## Files are already downloaded and extracted. Links will be provided afterwards"
   ]
  },
  {
   "cell_type": "code",
   "execution_count": 6,
   "metadata": {},
   "outputs": [
    {
     "name": "stdout",
     "output_type": "stream",
     "text": [
      "Reading  emnist-digits-test-images-idx3-ubyte\n"
     ]
    },
    {
     "ename": "ValueError",
     "evalue": "Axes must be different.",
     "output_type": "error",
     "traceback": [
      "\u001b[1;31m---------------------------------------------------------------------------\u001b[0m",
      "\u001b[1;31mValueError\u001b[0m                                Traceback (most recent call last)",
      "\u001b[1;32m<ipython-input-6-e0be5eceefac>\u001b[0m in \u001b[0;36m<module>\u001b[1;34m\u001b[0m\n\u001b[0;32m     24\u001b[0m \u001b[1;33m\u001b[0m\u001b[0m\n\u001b[0;32m     25\u001b[0m                 \u001b[0mparsed\u001b[0m \u001b[1;33m=\u001b[0m \u001b[0mnumpy\u001b[0m\u001b[1;33m.\u001b[0m\u001b[0mfrombuffer\u001b[0m\u001b[1;33m(\u001b[0m\u001b[0mdata\u001b[0m\u001b[1;33m,\u001b[0m\u001b[0mdtype\u001b[0m \u001b[1;33m=\u001b[0m \u001b[0mnumpy\u001b[0m\u001b[1;33m.\u001b[0m\u001b[0muint8\u001b[0m\u001b[1;33m,\u001b[0m \u001b[0moffset\u001b[0m \u001b[1;33m=\u001b[0m \u001b[1;36m16\u001b[0m\u001b[1;33m)\u001b[0m  \u001b[1;31m# READ THE PIXEL VALUES AS INTEGERS\u001b[0m\u001b[1;33m\u001b[0m\u001b[0m\n\u001b[1;32m---> 26\u001b[1;33m                 \u001b[0mparsed\u001b[0m\u001b[1;33m=\u001b[0m\u001b[0mnumpy\u001b[0m\u001b[1;33m.\u001b[0m\u001b[0mrot90\u001b[0m\u001b[1;33m(\u001b[0m\u001b[0mparsed\u001b[0m\u001b[1;33m,\u001b[0m\u001b[0maxes\u001b[0m\u001b[1;33m=\u001b[0m\u001b[1;33m(\u001b[0m\u001b[1;36m0\u001b[0m\u001b[1;33m,\u001b[0m \u001b[1;36m1\u001b[0m\u001b[1;33m)\u001b[0m\u001b[1;33m)\u001b[0m\u001b[1;33m\u001b[0m\u001b[0m\n\u001b[0m\u001b[0;32m     27\u001b[0m \u001b[1;31m#                 parsed=numpy.flipud(parsed)\u001b[0m\u001b[1;33m\u001b[0m\u001b[1;33m\u001b[0m\u001b[0m\n\u001b[0;32m     28\u001b[0m \u001b[1;31m#                 parsed=numpy.flip(parsed)\u001b[0m\u001b[1;33m\u001b[0m\u001b[1;33m\u001b[0m\u001b[0m\n",
      "\u001b[1;32mc:\\users\\sabik\\virtualenvironment\\x3\\lib\\site-packages\\numpy\\lib\\function_base.py\u001b[0m in \u001b[0;36mrot90\u001b[1;34m(m, k, axes)\u001b[0m\n\u001b[0;32m    121\u001b[0m \u001b[1;33m\u001b[0m\u001b[0m\n\u001b[0;32m    122\u001b[0m     \u001b[1;32mif\u001b[0m \u001b[0maxes\u001b[0m\u001b[1;33m[\u001b[0m\u001b[1;36m0\u001b[0m\u001b[1;33m]\u001b[0m \u001b[1;33m==\u001b[0m \u001b[0maxes\u001b[0m\u001b[1;33m[\u001b[0m\u001b[1;36m1\u001b[0m\u001b[1;33m]\u001b[0m \u001b[1;32mor\u001b[0m \u001b[0mabsolute\u001b[0m\u001b[1;33m(\u001b[0m\u001b[0maxes\u001b[0m\u001b[1;33m[\u001b[0m\u001b[1;36m0\u001b[0m\u001b[1;33m]\u001b[0m \u001b[1;33m-\u001b[0m \u001b[0maxes\u001b[0m\u001b[1;33m[\u001b[0m\u001b[1;36m1\u001b[0m\u001b[1;33m]\u001b[0m\u001b[1;33m)\u001b[0m \u001b[1;33m==\u001b[0m \u001b[0mm\u001b[0m\u001b[1;33m.\u001b[0m\u001b[0mndim\u001b[0m\u001b[1;33m:\u001b[0m\u001b[1;33m\u001b[0m\u001b[0m\n\u001b[1;32m--> 123\u001b[1;33m         \u001b[1;32mraise\u001b[0m \u001b[0mValueError\u001b[0m\u001b[1;33m(\u001b[0m\u001b[1;34m\"Axes must be different.\"\u001b[0m\u001b[1;33m)\u001b[0m\u001b[1;33m\u001b[0m\u001b[0m\n\u001b[0m\u001b[0;32m    124\u001b[0m \u001b[1;33m\u001b[0m\u001b[0m\n\u001b[0;32m    125\u001b[0m     if (axes[0] >= m.ndim or axes[0] < -m.ndim\n",
      "\u001b[1;31mValueError\u001b[0m: Axes must be different."
     ]
    }
   ],
   "source": [
    "import os,codecs,numpy\n",
    "\n",
    "# PROVIDE YOUR Digit DIRECTORY WITH THE EXTRACTED FILES HERE\n",
    "datapath = '../Dataset/DigitMNIST/'\n",
    "\n",
    "files = os.listdir(datapath)\n",
    "\n",
    "def get_int(b):   # CONVERTS 4 BYTES TO A INT\n",
    "    return int(codecs.encode(b, 'hex'), 16)\n",
    "\n",
    "data_dict = {}\n",
    "for file in files:\n",
    "    if file.endswith('ubyte'):  # FOR ALL 'ubyte' FILES\n",
    "        print('Reading ',file)\n",
    "        with open (datapath+file,'rb') as f:\n",
    "            data = f.read()\n",
    "            magicNumber = get_int(data[:4])   # 0-3: THE MAGIC NUMBER TO WHETHER IMAGE OR LABEL\n",
    "            length = get_int(data[4:8])  # 4-7: LENGTH OF THE ARRAY  (DIMENSION 0)\n",
    "            if (magicNumber == 2051):\n",
    "                category = 'images'\n",
    "                num_rows = get_int(data[8:12])  # NUMBER OF ROWS  (DIMENSION 1)\n",
    "                \n",
    "                num_cols = get_int(data[12:16])  # NUMBER OF COLUMNS  (DIMENSION 2)\n",
    "                \n",
    "                parsed = numpy.frombuffer(data,dtype = numpy.uint8, offset = 16)  # READ THE PIXEL VALUES AS INTEGERS\n",
    "                parsed=numpy.rot90(parsed,axes=(0, 1))\n",
    "#                 \n",
    "                parsed = parsed.reshape(length,num_rows,num_cols)  # RESHAPE THE ARRAY AS [NO_OF_SAMPLES x HEIGHT x WIDTH]           \n",
    "            elif(magicNumber == 2049):\n",
    "                category = 'labels'\n",
    "                parsed = numpy.frombuffer(data, dtype=numpy.uint8, offset=8) # READ THE LABEL VALUES AS INTEGERS\n",
    "#                 print(type(parsed))\n",
    "                parsed=numpy.rot90(parsed,axes=(0, 1))\n",
    "#                 parsed=numpy.flip(parsed)\n",
    "                parsed = parsed.reshape(length)  # RESHAPE THE ARRAY AS [NO_OF_SAMPLES]                           \n",
    "            if (length==40000):\n",
    "                set = 'test'\n",
    "            elif (length==240000):\n",
    "                set = 'train'\n",
    "            data_dict[set+'_'+category] = parsed  # SAVE THE NUMPY ARRAY TO A CORRESPONDING KEY"
   ]
  },
  {
   "cell_type": "code",
   "execution_count": null,
   "metadata": {},
   "outputs": [],
   "source": [
    "import os\n",
    "from skimage.io import imsave\n",
    "datapath = '../Dataset/DigitMNIST/' # PATH WHERE IMAGES WILL BE SAVED\n",
    "\n",
    "sets = ['train','test']\n",
    "\n",
    "for set in sets:   # FOR TRAIN AND TEST SET\n",
    "    images = data_dict[set+'_images']   # IMAGES\n",
    "    labels = data_dict[set+'_labels']   # LABELS\n",
    "    no_of_samples = images.shape[0]     # NUBMER OF SAMPLES\n",
    "    for indx in range (no_of_samples):  # FOR EVERY SAMPLE\n",
    "        print(set, indx)\n",
    "        image = images[indx]            # GET IMAGE\n",
    "        label = labels[indx]            # GET LABEL\n",
    "        \n",
    "        if not os.path.exists(datapath+set+'/'+str(label)+'/'):    # IF DIRECTORIES DO NOT EXIST THEN \n",
    "            os.makedirs (datapath+set+'/'+str(label)+'/')       # CREATE TRAIN/TEST DIRECTORY AND CLASS SPECIFIC SUBDIRECTORY\n",
    "        filenumber = len(os.listdir(datapath+set+'/'+str(label)+'/'))  # NUMBER OF FILES IN THE DIRECTORY FOR NAMING THE FILE\n",
    "        imsave(datapath+set+'/'+str(label)+'/%05d.png'%(filenumber),image)  # SAVE THE IMAGE WITH PROPER NAME"
   ]
  },
  {
   "cell_type": "code",
   "execution_count": 2,
   "metadata": {},
   "outputs": [
    {
     "ename": "KeyError",
     "evalue": "'train_images'",
     "output_type": "error",
     "traceback": [
      "\u001b[1;31m---------------------------------------------------------------------------\u001b[0m",
      "\u001b[1;31mKeyError\u001b[0m                                  Traceback (most recent call last)",
      "\u001b[1;32m<ipython-input-2-2b380eaffbed>\u001b[0m in \u001b[0;36m<module>\u001b[1;34m\u001b[0m\n\u001b[0;32m      8\u001b[0m \u001b[1;33m\u001b[0m\u001b[0m\n\u001b[0;32m      9\u001b[0m \u001b[1;32mfor\u001b[0m \u001b[0mset\u001b[0m \u001b[1;32min\u001b[0m \u001b[0msets\u001b[0m\u001b[1;33m:\u001b[0m   \u001b[1;31m# FOR TRAIN AND TEST SET\u001b[0m\u001b[1;33m\u001b[0m\u001b[0m\n\u001b[1;32m---> 10\u001b[1;33m     \u001b[0mimages\u001b[0m \u001b[1;33m=\u001b[0m \u001b[0mdata_dict\u001b[0m\u001b[1;33m[\u001b[0m\u001b[0mset\u001b[0m\u001b[1;33m+\u001b[0m\u001b[1;34m'_images'\u001b[0m\u001b[1;33m]\u001b[0m   \u001b[1;31m# IMAGES\u001b[0m\u001b[1;33m\u001b[0m\u001b[0m\n\u001b[0m\u001b[0;32m     11\u001b[0m     \u001b[0mlabels\u001b[0m \u001b[1;33m=\u001b[0m \u001b[0mdata_dict\u001b[0m\u001b[1;33m[\u001b[0m\u001b[0mset\u001b[0m\u001b[1;33m+\u001b[0m\u001b[1;34m'_labels'\u001b[0m\u001b[1;33m]\u001b[0m   \u001b[1;31m# LABELS\u001b[0m\u001b[1;33m\u001b[0m\u001b[0m\n\u001b[0;32m     12\u001b[0m     \u001b[0mno_of_samples\u001b[0m \u001b[1;33m=\u001b[0m \u001b[0mimages\u001b[0m\u001b[1;33m.\u001b[0m\u001b[0mshape\u001b[0m\u001b[1;33m[\u001b[0m\u001b[1;36m0\u001b[0m\u001b[1;33m]\u001b[0m     \u001b[1;31m# NUBMER OF SAMPLES\u001b[0m\u001b[1;33m\u001b[0m\u001b[0m\n",
      "\u001b[1;31mKeyError\u001b[0m: 'train_images'"
     ]
    }
   ],
   "source": [
    "import os\n",
    "from skimage.io import imsave\n",
    "from matplotlib import pyplot as plt\n",
    "from PIL import Image\n",
    "datapath = '../Dataset/DigitMNIST/' # PATH WHERE IMAGES WILL BE SAVED\n",
    "\n",
    "sets = ['train','test']\n",
    "\n",
    "for set in sets:   # FOR TRAIN AND TEST SET\n",
    "    images = data_dict[set+'_images']   # IMAGES\n",
    "    labels = data_dict[set+'_labels']   # LABELS\n",
    "    no_of_samples = images.shape[0]     # NUBMER OF SAMPLES\n",
    "    for indx in range (no_of_samples):  # FOR EVERY SAMPLE\n",
    "        print(set, indx)\n",
    "        image = images[indx]            # GET IMAGE\n",
    "        label = labels[indx]            # GET LABEL\n",
    "        img = Image.fromarray(image)\n",
    "        print(label)\n",
    "        plt.imshow(img)\n",
    "        plt.show()\n",
    "        \n",
    "       "
   ]
  },
  {
   "cell_type": "code",
   "execution_count": null,
   "metadata": {},
   "outputs": [],
   "source": []
  }
 ],
 "metadata": {
  "kernelspec": {
   "display_name": "Python 3",
   "language": "python",
   "name": "python3"
  },
  "language_info": {
   "codemirror_mode": {
    "name": "ipython",
    "version": 3
   },
   "file_extension": ".py",
   "mimetype": "text/x-python",
   "name": "python",
   "nbconvert_exporter": "python",
   "pygments_lexer": "ipython3",
   "version": "3.6.4"
  }
 },
 "nbformat": 4,
 "nbformat_minor": 2
}
