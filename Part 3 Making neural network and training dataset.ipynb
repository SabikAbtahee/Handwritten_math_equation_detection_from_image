{
 "cells": [
  {
   "cell_type": "markdown",
   "metadata": {},
   "source": [
    "# Importing Libraries"
   ]
  },
  {
   "cell_type": "code",
   "execution_count": 1,
   "metadata": {},
   "outputs": [
    {
     "name": "stderr",
     "output_type": "stream",
     "text": [
      "Using TensorFlow backend.\n"
     ]
    }
   ],
   "source": [
    "from keras.models import Sequential\n",
    "from keras.layers import Convolution2D\n",
    "from keras.layers import MaxPooling2D\n",
    "from keras.layers import Flatten\n",
    "from keras.layers import Dense\n",
    "from keras.layers import Dropout"
   ]
  },
  {
   "cell_type": "markdown",
   "metadata": {},
   "source": [
    "# MAKING CLASSIFIER"
   ]
  },
  {
   "cell_type": "code",
   "execution_count": 2,
   "metadata": {},
   "outputs": [],
   "source": [
    "classifier = Sequential()\n",
    "classifier.add(Convolution2D(32,(4,4),input_shape=(28,28,3),activation='relu'))\n",
    "\n",
    "classifier.add(MaxPooling2D(pool_size=(2,2)))\n",
    "\n",
    "\n",
    "classifier.add(Convolution2D(64, (4, 4), activation='relu'))\n",
    "\n",
    "classifier.add(MaxPooling2D(pool_size=(2, 2)))\n",
    "classifier.add(Flatten())\n",
    "\n",
    "classifier.add(Dense(units= 64,activation='relu'))\n",
    "classifier.add(Dropout(rate=0.1))\n",
    "classifier.add(Dense(units=14,activation='softmax'))\n",
    "classifier.add(Dropout(rate=0.1))\n",
    "classifier.compile(optimizer='adam',loss='categorical_crossentropy',metrics=['accuracy'])"
   ]
  },
  {
   "cell_type": "markdown",
   "metadata": {},
   "source": [
    "# Compile Classifier"
   ]
  },
  {
   "cell_type": "code",
   "execution_count": 3,
   "metadata": {},
   "outputs": [],
   "source": [
    "classifier.compile(optimizer='adam', loss='categorical_crossentropy', metrics=['accuracy'])"
   ]
  },
  {
   "cell_type": "markdown",
   "metadata": {},
   "source": [
    "# Give path of traintest dataset "
   ]
  },
  {
   "cell_type": "code",
   "execution_count": 4,
   "metadata": {},
   "outputs": [],
   "source": [
    "trainPath='../TRAIN_TEST/Train'\n",
    "testPath='../TRAIN_TEST/Test'\n",
    "savePath='../Model/test4.h5'"
   ]
  },
  {
   "cell_type": "code",
   "execution_count": 5,
   "metadata": {},
   "outputs": [],
   "source": [
    "from keras_preprocessing.image import ImageDataGenerator"
   ]
  },
  {
   "cell_type": "markdown",
   "metadata": {},
   "source": [
    "# Train test Configuration"
   ]
  },
  {
   "cell_type": "code",
   "execution_count": 6,
   "metadata": {},
   "outputs": [
    {
     "name": "stdout",
     "output_type": "stream",
     "text": [
      "Found 299500 images belonging to 14 classes.\n",
      "Found 50809 images belonging to 14 classes.\n",
      "{'+': 0, '-': 1, '0': 2, '1': 3, '2': 4, '3': 5, '4': 6, '5': 7, '6': 8, '7': 9, '8': 10, '9': 11, 'x': 12, 'y': 13}\n"
     ]
    }
   ],
   "source": [
    "train_datagen=ImageDataGenerator(rescale = 1. / 255,\n",
    "                                        shear_range= 0.1,\n",
    "                                        zoom_range = 0.1,\n",
    "\n",
    "                                        horizontal_flip = False)\n",
    "test_datagen = ImageDataGenerator(rescale=1. / 255)\n",
    "\n",
    "\n",
    "\n",
    "train_generator = train_datagen.flow_from_directory(\n",
    "        trainPath,\n",
    "        target_size=(28, 28),\n",
    "        batch_size=64,\n",
    "        class_mode='categorical')\n",
    "\n",
    "test_generator = test_datagen.flow_from_directory(\n",
    "        testPath,\n",
    "        target_size=(28, 28),\n",
    "        batch_size=64,\n",
    "        class_mode='categorical')\n",
    "\n",
    "print(train_generator.class_indices)\n"
   ]
  },
  {
   "cell_type": "markdown",
   "metadata": {},
   "source": [
    "# Start Machine Learning"
   ]
  },
  {
   "cell_type": "code",
   "execution_count": 7,
   "metadata": {},
   "outputs": [
    {
     "name": "stdout",
     "output_type": "stream",
     "text": [
      "Epoch 1/15\n",
      "4680/4679 [==============================] - 554s 118ms/step - loss: 1.7106 - acc: 0.8732 - val_loss: 0.0496 - val_acc: 0.9848\n",
      "Epoch 2/15\n",
      "4680/4679 [==============================] - 198s 42ms/step - loss: 1.6527 - acc: 0.8883 - val_loss: 0.0350 - val_acc: 0.9896\n",
      "Epoch 3/15\n",
      "4680/4679 [==============================] - 204s 44ms/step - loss: 1.6432 - acc: 0.8907 - val_loss: 0.0347 - val_acc: 0.9898\n",
      "Epoch 4/15\n",
      "4680/4679 [==============================] - 203s 43ms/step - loss: 1.6379 - acc: 0.8917 - val_loss: 0.0321 - val_acc: 0.9903\n",
      "Epoch 5/15\n",
      "4680/4679 [==============================] - 199s 43ms/step - loss: 1.6457 - acc: 0.8921 - val_loss: 0.0337 - val_acc: 0.9904\n",
      "Epoch 6/15\n",
      "4680/4679 [==============================] - 203s 43ms/step - loss: 1.6273 - acc: 0.8936 - val_loss: 0.0353 - val_acc: 0.9904\n",
      "Epoch 7/15\n",
      "4680/4679 [==============================] - 196s 42ms/step - loss: 1.6547 - acc: 0.8923 - val_loss: 0.0330 - val_acc: 0.9911\n",
      "Epoch 8/15\n",
      "4680/4679 [==============================] - 199s 42ms/step - loss: 1.6337 - acc: 0.8937 - val_loss: 0.0353 - val_acc: 0.9902\n",
      "Epoch 9/15\n",
      "4680/4679 [==============================] - 199s 42ms/step - loss: 1.6279 - acc: 0.8944 - val_loss: 0.0328 - val_acc: 0.9916\n",
      "Epoch 10/15\n",
      "4680/4679 [==============================] - 196s 42ms/step - loss: 1.6383 - acc: 0.8940 - val_loss: 0.0350 - val_acc: 0.9911\n",
      "Epoch 11/15\n",
      "4680/4679 [==============================] - 199s 42ms/step - loss: 1.6317 - acc: 0.8944 - val_loss: 0.0354 - val_acc: 0.9911\n",
      "Epoch 12/15\n",
      "4680/4679 [==============================] - 198s 42ms/step - loss: 1.6196 - acc: 0.8953 - val_loss: 0.0364 - val_acc: 0.9912\n",
      "Epoch 13/15\n",
      "4680/4679 [==============================] - 198s 42ms/step - loss: 1.6393 - acc: 0.8942 - val_loss: 0.0363 - val_acc: 0.9911\n",
      "Epoch 14/15\n",
      "4680/4679 [==============================] - 201s 43ms/step - loss: 1.6315 - acc: 0.8950 - val_loss: 0.0373 - val_acc: 0.9914\n",
      "Epoch 15/15\n",
      "4680/4679 [==============================] - 198s 42ms/step - loss: 1.6289 - acc: 0.8952 - val_loss: 0.0425 - val_acc: 0.9909\n",
      "_________________________________________________________________\n",
      "Layer (type)                 Output Shape              Param #   \n",
      "=================================================================\n",
      "conv2d_1 (Conv2D)            (None, 25, 25, 32)        1568      \n",
      "_________________________________________________________________\n",
      "max_pooling2d_1 (MaxPooling2 (None, 12, 12, 32)        0         \n",
      "_________________________________________________________________\n",
      "conv2d_2 (Conv2D)            (None, 9, 9, 64)          32832     \n",
      "_________________________________________________________________\n",
      "max_pooling2d_2 (MaxPooling2 (None, 4, 4, 64)          0         \n",
      "_________________________________________________________________\n",
      "flatten_1 (Flatten)          (None, 1024)              0         \n",
      "_________________________________________________________________\n",
      "dense_1 (Dense)              (None, 64)                65600     \n",
      "_________________________________________________________________\n",
      "dropout_1 (Dropout)          (None, 64)                0         \n",
      "_________________________________________________________________\n",
      "dense_2 (Dense)              (None, 14)                910       \n",
      "_________________________________________________________________\n",
      "dropout_2 (Dropout)          (None, 14)                0         \n",
      "=================================================================\n",
      "Total params: 100,910\n",
      "Trainable params: 100,910\n",
      "Non-trainable params: 0\n",
      "_________________________________________________________________\n"
     ]
    }
   ],
   "source": [
    "\n",
    "classifier.fit_generator(\n",
    "        train_generator,\n",
    "        steps_per_epoch=299500  / 64,\n",
    "        epochs=15,\n",
    "        validation_data=test_generator,\n",
    "        validation_steps=50809  / 64)\n",
    "#\n",
    "#     # 269493 / 64\n",
    "#     # 67347 / 64\n",
    "#     #\n",
    "\n",
    "classifier.summary()\n",
    "classifier.save(savePath)"
   ]
  },
  {
   "cell_type": "code",
   "execution_count": null,
   "metadata": {},
   "outputs": [],
   "source": []
  }
 ],
 "metadata": {
  "kernelspec": {
   "display_name": "Python 3",
   "language": "python",
   "name": "python3"
  },
  "language_info": {
   "codemirror_mode": {
    "name": "ipython",
    "version": 3
   },
   "file_extension": ".py",
   "mimetype": "text/x-python",
   "name": "python",
   "nbconvert_exporter": "python",
   "pygments_lexer": "ipython3",
   "version": "3.7.0"
  }
 },
 "nbformat": 4,
 "nbformat_minor": 2
}
