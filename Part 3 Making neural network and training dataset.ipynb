{
 "cells": [
  {
   "cell_type": "markdown",
   "metadata": {},
   "source": [
    "# Importing Libraries"
   ]
  },
  {
   "cell_type": "code",
   "execution_count": 1,
   "metadata": {},
   "outputs": [
    {
     "name": "stderr",
     "output_type": "stream",
     "text": [
      "Using TensorFlow backend.\n"
     ]
    }
   ],
   "source": [
    "from keras.models import Sequential\n",
    "from keras.layers import Convolution2D\n",
    "from keras.layers import MaxPooling2D\n",
    "from keras.layers import Flatten\n",
    "from keras.layers import Dense\n",
    "from keras.layers import Dropout"
   ]
  },
  {
   "cell_type": "markdown",
   "metadata": {},
   "source": [
    "# MAKING CLASSIFIER"
   ]
  },
  {
   "cell_type": "code",
   "execution_count": 2,
   "metadata": {},
   "outputs": [],
   "source": [
    "classifier = Sequential()\n",
    "classifier.add(Convolution2D(32,(4,4),input_shape=(28,28,3),activation='relu'))\n",
    "\n",
    "classifier.add(MaxPooling2D(pool_size=(2,2)))\n",
    "\n",
    "\n",
    "classifier.add(Convolution2D(64, (4, 4), activation='relu'))\n",
    "\n",
    "classifier.add(MaxPooling2D(pool_size=(2, 2)))\n",
    "classifier.add(Flatten())\n",
    "\n",
    "classifier.add(Dense(units= 64,activation='relu'))\n",
    "classifier.add(Dropout(rate=0.1))\n",
    "classifier.add(Dense(units=14,activation='softmax'))\n",
    "classifier.add(Dropout(rate=0.1))\n",
    "classifier.compile(optimizer='adam',loss='categorical_crossentropy',metrics=['accuracy'])"
   ]
  },
  {
   "cell_type": "markdown",
   "metadata": {},
   "source": [
    "# Compile Classifier"
   ]
  },
  {
   "cell_type": "code",
   "execution_count": 3,
   "metadata": {},
   "outputs": [],
   "source": [
    "classifier.compile(optimizer='adam', loss='categorical_crossentropy', metrics=['accuracy'])"
   ]
  },
  {
   "cell_type": "markdown",
   "metadata": {},
   "source": [
    "# Give path of traintest dataset "
   ]
  },
  {
   "cell_type": "code",
   "execution_count": 4,
   "metadata": {},
   "outputs": [],
   "source": [
    "trainPath='../TRAIN_TEST/Train'\n",
    "testPath='../TRAIN_TEST/Test'\n",
    "savePath='../Model/test3.h5'"
   ]
  },
  {
   "cell_type": "code",
   "execution_count": 5,
   "metadata": {},
   "outputs": [],
   "source": [
    "from keras_preprocessing.image import ImageDataGenerator"
   ]
  },
  {
   "cell_type": "markdown",
   "metadata": {},
   "source": [
    "# Train test Configuration"
   ]
  },
  {
   "cell_type": "code",
   "execution_count": 6,
   "metadata": {},
   "outputs": [
    {
     "name": "stdout",
     "output_type": "stream",
     "text": [
      "Found 299500 images belonging to 14 classes.\n",
      "Found 50809 images belonging to 14 classes.\n",
      "{'+': 0, '-': 1, '0': 2, '1': 3, '2': 4, '3': 5, '4': 6, '5': 7, '6': 8, '7': 9, '8': 10, '9': 11, 'x': 12, 'y': 13}\n"
     ]
    }
   ],
   "source": [
    "train_datagen=ImageDataGenerator(rescale = 1. / 255,\n",
    "                                        shear_range= 0.1,\n",
    "                                        zoom_range = 0.1,\n",
    "\n",
    "                                        horizontal_flip = False)\n",
    "test_datagen = ImageDataGenerator(rescale=1. / 255)\n",
    "\n",
    "\n",
    "\n",
    "train_generator = train_datagen.flow_from_directory(\n",
    "        trainPath,\n",
    "        target_size=(28, 28),\n",
    "        batch_size=64,\n",
    "        class_mode='categorical')\n",
    "\n",
    "test_generator = test_datagen.flow_from_directory(\n",
    "        testPath,\n",
    "        target_size=(28, 28),\n",
    "        batch_size=64,\n",
    "        class_mode='categorical')\n",
    "\n",
    "print(train_generator.class_indices)\n"
   ]
  },
  {
   "cell_type": "markdown",
   "metadata": {},
   "source": [
    "# Start Machine Learning"
   ]
  },
  {
   "cell_type": "code",
   "execution_count": 7,
   "metadata": {},
   "outputs": [
    {
     "name": "stdout",
     "output_type": "stream",
     "text": [
      "Epoch 1/15\n",
      "4680/4679 [==============================] - 590s 126ms/step - loss: 1.6901 - acc: 0.8743 - val_loss: 0.0533 - val_acc: 0.9851\n",
      "Epoch 2/15\n",
      "4680/4679 [==============================] - 188s 40ms/step - loss: 1.6397 - acc: 0.8891 - val_loss: 0.0357 - val_acc: 0.9896\n",
      "Epoch 3/15\n",
      "4680/4679 [==============================] - 188s 40ms/step - loss: 1.6313 - acc: 0.8915 - val_loss: 0.0333 - val_acc: 0.9899\n",
      "Epoch 4/15\n",
      "4680/4679 [==============================] - 188s 40ms/step - loss: 1.6384 - acc: 0.8919 - val_loss: 0.0382 - val_acc: 0.9886\n",
      "Epoch 5/15\n",
      "4680/4679 [==============================] - 187s 40ms/step - loss: 1.6366 - acc: 0.8925 - val_loss: 0.0329 - val_acc: 0.9906\n",
      "Epoch 6/15\n",
      "4680/4679 [==============================] - 187s 40ms/step - loss: 1.6391 - acc: 0.8927 - val_loss: 0.0318 - val_acc: 0.9909\n",
      "Epoch 7/15\n",
      "4680/4679 [==============================] - 187s 40ms/step - loss: 1.6453 - acc: 0.8926 - val_loss: 0.0314 - val_acc: 0.9911\n",
      "Epoch 8/15\n",
      "4680/4679 [==============================] - 187s 40ms/step - loss: 1.6317 - acc: 0.8940 - val_loss: 0.0379 - val_acc: 0.9902\n",
      "Epoch 9/15\n",
      "4680/4679 [==============================] - 187s 40ms/step - loss: 1.6189 - acc: 0.8949 - val_loss: 0.0333 - val_acc: 0.9914\n",
      "Epoch 10/15\n",
      "4680/4679 [==============================] - 187s 40ms/step - loss: 1.6296 - acc: 0.8946 - val_loss: 0.0318 - val_acc: 0.9914\n",
      "Epoch 11/15\n",
      "4680/4679 [==============================] - 187s 40ms/step - loss: 1.6293 - acc: 0.8947 - val_loss: 0.0323 - val_acc: 0.9918\n",
      "Epoch 12/15\n",
      "4680/4679 [==============================] - 198s 42ms/step - loss: 1.6125 - acc: 0.8958 - val_loss: 0.0344 - val_acc: 0.9917\n",
      "Epoch 13/15\n",
      "4680/4679 [==============================] - 199s 43ms/step - loss: 1.6314 - acc: 0.8948 - val_loss: 0.0398 - val_acc: 0.9904\n",
      "Epoch 14/15\n",
      "4680/4679 [==============================] - 199s 43ms/step - loss: 1.6282 - acc: 0.8952 - val_loss: 0.0376 - val_acc: 0.9907\n",
      "Epoch 15/15\n",
      "4680/4679 [==============================] - 199s 43ms/step - loss: 1.6239 - acc: 0.8955 - val_loss: 0.0354 - val_acc: 0.9917\n",
      "_________________________________________________________________\n",
      "Layer (type)                 Output Shape              Param #   \n",
      "=================================================================\n",
      "conv2d_1 (Conv2D)            (None, 25, 25, 32)        1568      \n",
      "_________________________________________________________________\n",
      "max_pooling2d_1 (MaxPooling2 (None, 12, 12, 32)        0         \n",
      "_________________________________________________________________\n",
      "conv2d_2 (Conv2D)            (None, 9, 9, 64)          32832     \n",
      "_________________________________________________________________\n",
      "max_pooling2d_2 (MaxPooling2 (None, 4, 4, 64)          0         \n",
      "_________________________________________________________________\n",
      "flatten_1 (Flatten)          (None, 1024)              0         \n",
      "_________________________________________________________________\n",
      "dense_1 (Dense)              (None, 64)                65600     \n",
      "_________________________________________________________________\n",
      "dropout_1 (Dropout)          (None, 64)                0         \n",
      "_________________________________________________________________\n",
      "dense_2 (Dense)              (None, 14)                910       \n",
      "_________________________________________________________________\n",
      "dropout_2 (Dropout)          (None, 14)                0         \n",
      "=================================================================\n",
      "Total params: 100,910\n",
      "Trainable params: 100,910\n",
      "Non-trainable params: 0\n",
      "_________________________________________________________________\n"
     ]
    }
   ],
   "source": [
    "\n",
    "classifier.fit_generator(\n",
    "        train_generator,\n",
    "        steps_per_epoch=299500  / 64,\n",
    "        epochs=15,\n",
    "        validation_data=test_generator,\n",
    "        validation_steps=50809  / 64)\n",
    "#\n",
    "#     # 269493 / 64\n",
    "#     # 67347 / 64\n",
    "#     #\n",
    "\n",
    "classifier.summary()\n",
    "classifier.save(savePath)"
   ]
  },
  {
   "cell_type": "code",
   "execution_count": null,
   "metadata": {},
   "outputs": [],
   "source": []
  }
 ],
 "metadata": {
  "kernelspec": {
   "display_name": "Python 3",
   "language": "python",
   "name": "python3"
  },
  "language_info": {
   "codemirror_mode": {
    "name": "ipython",
    "version": 3
   },
   "file_extension": ".py",
   "mimetype": "text/x-python",
   "name": "python",
   "nbconvert_exporter": "python",
   "pygments_lexer": "ipython3",
   "version": "3.6.4"
  }
 },
 "nbformat": 4,
 "nbformat_minor": 2
}
