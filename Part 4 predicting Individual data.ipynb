{
 "cells": [
  {
   "cell_type": "markdown",
   "metadata": {},
   "source": [
    "## IMPORT Necessary libraries"
   ]
  },
  {
   "cell_type": "code",
   "execution_count": 2,
   "metadata": {},
   "outputs": [
    {
     "name": "stderr",
     "output_type": "stream",
     "text": [
      "Using TensorFlow backend.\n"
     ]
    }
   ],
   "source": [
    "from keras.models import load_model\n",
    "from keras.preprocessing import image\n",
    "import numpy as np\n",
    "import os\n",
    "import cv2\n",
    "import matplotlib.pyplot as plt"
   ]
  },
  {
   "cell_type": "markdown",
   "metadata": {},
   "source": [
    "## Select model file and set labels"
   ]
  },
  {
   "cell_type": "code",
   "execution_count": 3,
   "metadata": {},
   "outputs": [],
   "source": [
    "modelPath = '../Model/test4.h5'\n",
    "classifier = load_model(modelPath)\n",
    "labels = ['+', '-', '0', '1', '2', '3', '4', '5', '6', '7', '8', '9','x', 'y']"
   ]
  },
  {
   "cell_type": "markdown",
   "metadata": {},
   "source": [
    "## FOR CANVAS SELECTION"
   ]
  },
  {
   "cell_type": "code",
   "execution_count": 4,
   "metadata": {},
   "outputs": [],
   "source": [
    "from PIL import ImageTk, Image, ImageDraw\n",
    "import PIL\n",
    "from tkinter import *\n",
    "\n",
    "class InputPrompt:\n",
    "\n",
    "    def __init__(self):\n",
    "        self.width = 1400\n",
    "        self.height = 500\n",
    "        self.center = self.height // 2\n",
    "        self.white = (255, 255, 255)\n",
    "        self.green = (0, 128, 0)\n",
    "        self.cv, self.draw, self.image1 = '', '', ''\n",
    "        self.openTheCanvas()\n",
    "\n",
    "\n",
    "    def save(self):\n",
    "        self.path = \"canvas_image.png\"\n",
    "        self.image1.save(self.path)\n",
    "\n",
    "    def paint(self, event):\n",
    "        # python_green = \"#476042\"\n",
    "        x1, y1 = (event.x - 1), (event.y - 1)\n",
    "        x2, y2 = (event.x + 1), (event.y + 1)\n",
    "        self.cv.create_oval(x1, y1, x2, y2, fill=\"black\", width=0.5)\n",
    "        self.draw.line([x1, y1, x2, y2], fill=\"black\", width=10)\n",
    "\n",
    "    def openTheCanvas(self):\n",
    "\n",
    "        root = Tk()\n",
    "\n",
    "        # Tkinter create a canvas to draw on\n",
    "        self.cv = Canvas(root, width=self.width, height=self.height, bg='white')\n",
    "        self.cv.pack()\n",
    "\n",
    "        # PIL create an empty image and draw object to draw on\n",
    "        # memory only, not visible\n",
    "        self.image1 = PIL.Image.new(\"RGB\", (self.width, self.height), self.white)\n",
    "        self.draw = ImageDraw.Draw(self.image1)\n",
    "\n",
    "        # do the Tkinter canvas drawings (visible)\n",
    "        # cv.create_line([0, center, width, center], fill='green')\n",
    "\n",
    "        self.cv.pack(expand=YES, fill=BOTH)\n",
    "        self.cv.bind(\"<B1-Motion>\", self.paint)\n",
    "\n",
    "        # do the PIL image/draw (in memory) drawings\n",
    "        # draw.line([0, center, width, center], green)\n",
    "\n",
    "        # PIL image can be saved as .png .jpg .gif or .bmp file (among others)\n",
    "        # filename = \"my_drawing.png\"\n",
    "        # image1.save(filename)\n",
    "        button = Button(text=\"save\", command=self.save)\n",
    "        button.pack()\n",
    "        root.mainloop()\n",
    "\n",
    "\n",
    "from tkinter import filedialog\n",
    "\n",
    "class FileChooser:\n",
    "\n",
    "    def __init__(self):\n",
    "        root = Tk()\n",
    "        root.filename = filedialog.askopenfilename(initialdir=\"/\", title=\"Select file\",\n",
    "                                                   filetypes=((\"jpeg files\", \"*.jpg\"), (\"all files\", \"*.*\")))\n",
    "        self.path=root.filename\n"
   ]
  },
  {
   "cell_type": "markdown",
   "metadata": {},
   "source": [
    "## Choose file or draw the image"
   ]
  },
  {
   "cell_type": "code",
   "execution_count": 5,
   "metadata": {},
   "outputs": [
    {
     "name": "stdout",
     "output_type": "stream",
     "text": [
      "Enter 1 to draw and 2 to select Image1\n"
     ]
    }
   ],
   "source": [
    "while(True):\n",
    "    p=int(input(\"Enter 1 to draw and 2 to select Image\"))\n",
    "    if(p==1):\n",
    "        obj=InputPrompt()\n",
    "        break\n",
    "    elif(p==2):\n",
    "        obj=FileChooser()\n",
    "        break\n",
    "    "
   ]
  },
  {
   "cell_type": "markdown",
   "metadata": {},
   "source": [
    "## Open the file and always save it in png format"
   ]
  },
  {
   "cell_type": "code",
   "execution_count": 6,
   "metadata": {},
   "outputs": [],
   "source": [
    "from PIL import Image\n",
    "givenImagePath = obj.path\n",
    "\n",
    "im = Image.open(givenImagePath)\n",
    "im.save('temp.png')\n"
   ]
  },
  {
   "cell_type": "markdown",
   "metadata": {},
   "source": [
    "## Image Segmentation"
   ]
  },
  {
   "cell_type": "code",
   "execution_count": 7,
   "metadata": {},
   "outputs": [],
   "source": [
    "    im = cv2.imread('temp.png')\n",
    "    im_gray = cv2.cvtColor(im, cv2.COLOR_BGR2GRAY)\n",
    "    im_gray = cv2.GaussianBlur(im_gray, (5, 5), 0)\n",
    "    ret, im_th = cv2.threshold(im_gray, 150, 255, cv2.THRESH_BINARY_INV)\n",
    "    _, ctrs, hier = cv2.findContours(im_th.copy(), cv2.RETR_EXTERNAL, cv2.CHAIN_APPROX_SIMPLE)\n",
    "    rects = [cv2.boundingRect(ctr) for ctr in ctrs]\n",
    "    images = {}\n",
    "    x = 0\n",
    "    for rect in rects:\n",
    "        cv2.rectangle(im, (rect[0], rect[1]), (rect[0] + rect[2], rect[1] + rect[3]), (0, 255, 0), 3)\n",
    "        leng = int(rect[3] * 1.5)\n",
    "        pt1 = int(rect[1] + rect[3] // 2 - leng // 2)\n",
    "        pt2 = int(rect[0] + rect[2] // 2 - leng // 2)\n",
    "        if(leng<=28):\n",
    "            roi = im_th[pt1-14:pt1 + leng+14, pt2-14:pt2 + leng+14]\n",
    "        else:\n",
    "            roi = im_th[pt1:pt1 + leng, pt2:pt2 + leng]\n",
    "        images[rect[0]] = roi\n",
    "        "
   ]
  },
  {
   "cell_type": "code",
   "execution_count": 8,
   "metadata": {},
   "outputs": [],
   "source": [
    "    import cv2\n",
    "    y = 0\n",
    "    positionWithImages = {}\n",
    "    for key in sorted(images):\n",
    "        img2=cv2.cvtColor(images[key],cv2.COLOR_GRAY2RGB)\n",
    "        positionWithImages[y]=img2\n",
    "        y+=1\n",
    "        \n",
    "        "
   ]
  },
  {
   "cell_type": "markdown",
   "metadata": {},
   "source": [
    "## Resizing  PIL images"
   ]
  },
  {
   "cell_type": "code",
   "execution_count": 9,
   "metadata": {},
   "outputs": [],
   "source": [
    "from resizeimage import resizeimage\n",
    "def resizeImages(pilImage):\n",
    "    width, height = pilImage.size\n",
    "    size = (28, 28)\n",
    "\n",
    "    if width>=28 and height>=28:\n",
    "\n",
    "\n",
    "         resizedImage = resizeimage.resize_cover(pilImage, size)\n",
    "         a=np.array(resizedImage)\n",
    "#          cv2.imwrite('y' + x.__str__() + '.jpg', a)\n",
    "         return a\n",
    "    else:\n",
    "         return None"
   ]
  },
  {
   "cell_type": "markdown",
   "metadata": {},
   "source": [
    "## Predict by giving a array"
   ]
  },
  {
   "cell_type": "code",
   "execution_count": 10,
   "metadata": {},
   "outputs": [],
   "source": [
    "def predictFromArray(arr):\n",
    "    result = classifier.predict(arr)\n",
    "    for i in range(len(result[0])):\n",
    "       if(result[0][i]>0.75):\n",
    "           return (labels[i])"
   ]
  },
  {
   "cell_type": "markdown",
   "metadata": {},
   "source": [
    "## Run predictions on the segmented images"
   ]
  },
  {
   "cell_type": "code",
   "execution_count": 11,
   "metadata": {},
   "outputs": [
    {
     "ename": "UnknownError",
     "evalue": "Failed to get convolution algorithm. This is probably because cuDNN failed to initialize, so try looking to see if a warning log message was printed above.\n\t [[{{node conv2d_1/convolution}} = Conv2D[T=DT_FLOAT, data_format=\"NCHW\", dilations=[1, 1, 1, 1], padding=\"VALID\", strides=[1, 1, 1, 1], use_cudnn_on_gpu=true, _device=\"/job:localhost/replica:0/task:0/device:GPU:0\"](conv2d_1/convolution-0-TransposeNHWCToNCHW-LayoutOptimizer, conv2d_1/kernel/read)]]\n\t [[{{node dropout_2/cond/Merge/_267}} = _Recv[client_terminated=false, recv_device=\"/job:localhost/replica:0/task:0/device:CPU:0\", send_device=\"/job:localhost/replica:0/task:0/device:GPU:0\", send_device_incarnation=1, tensor_name=\"edge_98_dropout_2/cond/Merge\", tensor_type=DT_FLOAT, _device=\"/job:localhost/replica:0/task:0/device:CPU:0\"]()]]",
     "output_type": "error",
     "traceback": [
      "\u001b[1;31m---------------------------------------------------------------------------\u001b[0m",
      "\u001b[1;31mUnknownError\u001b[0m                              Traceback (most recent call last)",
      "\u001b[1;32m<ipython-input-11-552f94286c0d>\u001b[0m in \u001b[0;36m<module>\u001b[1;34m\u001b[0m\n\u001b[0;32m      5\u001b[0m     \u001b[0marr\u001b[0m \u001b[1;33m=\u001b[0m \u001b[0mnp\u001b[0m\u001b[1;33m.\u001b[0m\u001b[0mexpand_dims\u001b[0m\u001b[1;33m(\u001b[0m\u001b[0mx\u001b[0m\u001b[1;33m,\u001b[0m \u001b[0maxis\u001b[0m\u001b[1;33m=\u001b[0m\u001b[1;36m0\u001b[0m\u001b[1;33m)\u001b[0m\u001b[1;33m\u001b[0m\u001b[0m\n\u001b[0;32m      6\u001b[0m \u001b[1;31m#     print(arr.shape)\u001b[0m\u001b[1;33m\u001b[0m\u001b[1;33m\u001b[0m\u001b[0m\n\u001b[1;32m----> 7\u001b[1;33m     \u001b[0mequation\u001b[0m\u001b[1;33m=\u001b[0m\u001b[0mpredictFromArray\u001b[0m\u001b[1;33m(\u001b[0m\u001b[0marr\u001b[0m\u001b[1;33m)\u001b[0m\u001b[1;33m\u001b[0m\u001b[0m\n\u001b[0m\u001b[0;32m      8\u001b[0m     \u001b[0mmainEquation\u001b[0m\u001b[1;33m.\u001b[0m\u001b[0mappend\u001b[0m\u001b[1;33m(\u001b[0m\u001b[0mequation\u001b[0m\u001b[1;33m)\u001b[0m\u001b[1;33m\u001b[0m\u001b[0m\n",
      "\u001b[1;32m<ipython-input-10-f0135f7f2f3a>\u001b[0m in \u001b[0;36mpredictFromArray\u001b[1;34m(arr)\u001b[0m\n\u001b[0;32m      1\u001b[0m \u001b[1;32mdef\u001b[0m \u001b[0mpredictFromArray\u001b[0m\u001b[1;33m(\u001b[0m\u001b[0marr\u001b[0m\u001b[1;33m)\u001b[0m\u001b[1;33m:\u001b[0m\u001b[1;33m\u001b[0m\u001b[0m\n\u001b[1;32m----> 2\u001b[1;33m     \u001b[0mresult\u001b[0m \u001b[1;33m=\u001b[0m \u001b[0mclassifier\u001b[0m\u001b[1;33m.\u001b[0m\u001b[0mpredict\u001b[0m\u001b[1;33m(\u001b[0m\u001b[0marr\u001b[0m\u001b[1;33m)\u001b[0m\u001b[1;33m\u001b[0m\u001b[0m\n\u001b[0m\u001b[0;32m      3\u001b[0m     \u001b[1;32mfor\u001b[0m \u001b[0mi\u001b[0m \u001b[1;32min\u001b[0m \u001b[0mrange\u001b[0m\u001b[1;33m(\u001b[0m\u001b[0mlen\u001b[0m\u001b[1;33m(\u001b[0m\u001b[0mresult\u001b[0m\u001b[1;33m[\u001b[0m\u001b[1;36m0\u001b[0m\u001b[1;33m]\u001b[0m\u001b[1;33m)\u001b[0m\u001b[1;33m)\u001b[0m\u001b[1;33m:\u001b[0m\u001b[1;33m\u001b[0m\u001b[0m\n\u001b[0;32m      4\u001b[0m        \u001b[1;32mif\u001b[0m\u001b[1;33m(\u001b[0m\u001b[0mresult\u001b[0m\u001b[1;33m[\u001b[0m\u001b[1;36m0\u001b[0m\u001b[1;33m]\u001b[0m\u001b[1;33m[\u001b[0m\u001b[0mi\u001b[0m\u001b[1;33m]\u001b[0m\u001b[1;33m>\u001b[0m\u001b[1;36m0.75\u001b[0m\u001b[1;33m)\u001b[0m\u001b[1;33m:\u001b[0m\u001b[1;33m\u001b[0m\u001b[0m\n\u001b[0;32m      5\u001b[0m            \u001b[1;32mreturn\u001b[0m \u001b[1;33m(\u001b[0m\u001b[0mlabels\u001b[0m\u001b[1;33m[\u001b[0m\u001b[0mi\u001b[0m\u001b[1;33m]\u001b[0m\u001b[1;33m)\u001b[0m\u001b[1;33m\u001b[0m\u001b[0m\n",
      "\u001b[1;32mc:\\users\\sabik\\virtualenvironment\\x3\\lib\\site-packages\\keras\\engine\\training.py\u001b[0m in \u001b[0;36mpredict\u001b[1;34m(self, x, batch_size, verbose, steps)\u001b[0m\n\u001b[0;32m   1167\u001b[0m                                             \u001b[0mbatch_size\u001b[0m\u001b[1;33m=\u001b[0m\u001b[0mbatch_size\u001b[0m\u001b[1;33m,\u001b[0m\u001b[1;33m\u001b[0m\u001b[0m\n\u001b[0;32m   1168\u001b[0m                                             \u001b[0mverbose\u001b[0m\u001b[1;33m=\u001b[0m\u001b[0mverbose\u001b[0m\u001b[1;33m,\u001b[0m\u001b[1;33m\u001b[0m\u001b[0m\n\u001b[1;32m-> 1169\u001b[1;33m                                             steps=steps)\n\u001b[0m\u001b[0;32m   1170\u001b[0m \u001b[1;33m\u001b[0m\u001b[0m\n\u001b[0;32m   1171\u001b[0m     def train_on_batch(self, x, y,\n",
      "\u001b[1;32mc:\\users\\sabik\\virtualenvironment\\x3\\lib\\site-packages\\keras\\engine\\training_arrays.py\u001b[0m in \u001b[0;36mpredict_loop\u001b[1;34m(model, f, ins, batch_size, verbose, steps)\u001b[0m\n\u001b[0;32m    292\u001b[0m                 \u001b[0mins_batch\u001b[0m\u001b[1;33m[\u001b[0m\u001b[0mi\u001b[0m\u001b[1;33m]\u001b[0m \u001b[1;33m=\u001b[0m \u001b[0mins_batch\u001b[0m\u001b[1;33m[\u001b[0m\u001b[0mi\u001b[0m\u001b[1;33m]\u001b[0m\u001b[1;33m.\u001b[0m\u001b[0mtoarray\u001b[0m\u001b[1;33m(\u001b[0m\u001b[1;33m)\u001b[0m\u001b[1;33m\u001b[0m\u001b[0m\n\u001b[0;32m    293\u001b[0m \u001b[1;33m\u001b[0m\u001b[0m\n\u001b[1;32m--> 294\u001b[1;33m             \u001b[0mbatch_outs\u001b[0m \u001b[1;33m=\u001b[0m \u001b[0mf\u001b[0m\u001b[1;33m(\u001b[0m\u001b[0mins_batch\u001b[0m\u001b[1;33m)\u001b[0m\u001b[1;33m\u001b[0m\u001b[0m\n\u001b[0m\u001b[0;32m    295\u001b[0m             \u001b[0mbatch_outs\u001b[0m \u001b[1;33m=\u001b[0m \u001b[0mto_list\u001b[0m\u001b[1;33m(\u001b[0m\u001b[0mbatch_outs\u001b[0m\u001b[1;33m)\u001b[0m\u001b[1;33m\u001b[0m\u001b[0m\n\u001b[0;32m    296\u001b[0m             \u001b[1;32mif\u001b[0m \u001b[0mbatch_index\u001b[0m \u001b[1;33m==\u001b[0m \u001b[1;36m0\u001b[0m\u001b[1;33m:\u001b[0m\u001b[1;33m\u001b[0m\u001b[0m\n",
      "\u001b[1;32mc:\\users\\sabik\\virtualenvironment\\x3\\lib\\site-packages\\keras\\backend\\tensorflow_backend.py\u001b[0m in \u001b[0;36m__call__\u001b[1;34m(self, inputs)\u001b[0m\n\u001b[0;32m   2713\u001b[0m                 \u001b[1;32mreturn\u001b[0m \u001b[0mself\u001b[0m\u001b[1;33m.\u001b[0m\u001b[0m_legacy_call\u001b[0m\u001b[1;33m(\u001b[0m\u001b[0minputs\u001b[0m\u001b[1;33m)\u001b[0m\u001b[1;33m\u001b[0m\u001b[0m\n\u001b[0;32m   2714\u001b[0m \u001b[1;33m\u001b[0m\u001b[0m\n\u001b[1;32m-> 2715\u001b[1;33m             \u001b[1;32mreturn\u001b[0m \u001b[0mself\u001b[0m\u001b[1;33m.\u001b[0m\u001b[0m_call\u001b[0m\u001b[1;33m(\u001b[0m\u001b[0minputs\u001b[0m\u001b[1;33m)\u001b[0m\u001b[1;33m\u001b[0m\u001b[0m\n\u001b[0m\u001b[0;32m   2716\u001b[0m         \u001b[1;32melse\u001b[0m\u001b[1;33m:\u001b[0m\u001b[1;33m\u001b[0m\u001b[0m\n\u001b[0;32m   2717\u001b[0m             \u001b[1;32mif\u001b[0m \u001b[0mpy_any\u001b[0m\u001b[1;33m(\u001b[0m\u001b[0mis_tensor\u001b[0m\u001b[1;33m(\u001b[0m\u001b[0mx\u001b[0m\u001b[1;33m)\u001b[0m \u001b[1;32mfor\u001b[0m \u001b[0mx\u001b[0m \u001b[1;32min\u001b[0m \u001b[0minputs\u001b[0m\u001b[1;33m)\u001b[0m\u001b[1;33m:\u001b[0m\u001b[1;33m\u001b[0m\u001b[0m\n",
      "\u001b[1;32mc:\\users\\sabik\\virtualenvironment\\x3\\lib\\site-packages\\keras\\backend\\tensorflow_backend.py\u001b[0m in \u001b[0;36m_call\u001b[1;34m(self, inputs)\u001b[0m\n\u001b[0;32m   2673\u001b[0m             \u001b[0mfetched\u001b[0m \u001b[1;33m=\u001b[0m \u001b[0mself\u001b[0m\u001b[1;33m.\u001b[0m\u001b[0m_callable_fn\u001b[0m\u001b[1;33m(\u001b[0m\u001b[1;33m*\u001b[0m\u001b[0marray_vals\u001b[0m\u001b[1;33m,\u001b[0m \u001b[0mrun_metadata\u001b[0m\u001b[1;33m=\u001b[0m\u001b[0mself\u001b[0m\u001b[1;33m.\u001b[0m\u001b[0mrun_metadata\u001b[0m\u001b[1;33m)\u001b[0m\u001b[1;33m\u001b[0m\u001b[0m\n\u001b[0;32m   2674\u001b[0m         \u001b[1;32melse\u001b[0m\u001b[1;33m:\u001b[0m\u001b[1;33m\u001b[0m\u001b[0m\n\u001b[1;32m-> 2675\u001b[1;33m             \u001b[0mfetched\u001b[0m \u001b[1;33m=\u001b[0m \u001b[0mself\u001b[0m\u001b[1;33m.\u001b[0m\u001b[0m_callable_fn\u001b[0m\u001b[1;33m(\u001b[0m\u001b[1;33m*\u001b[0m\u001b[0marray_vals\u001b[0m\u001b[1;33m)\u001b[0m\u001b[1;33m\u001b[0m\u001b[0m\n\u001b[0m\u001b[0;32m   2676\u001b[0m         \u001b[1;32mreturn\u001b[0m \u001b[0mfetched\u001b[0m\u001b[1;33m[\u001b[0m\u001b[1;33m:\u001b[0m\u001b[0mlen\u001b[0m\u001b[1;33m(\u001b[0m\u001b[0mself\u001b[0m\u001b[1;33m.\u001b[0m\u001b[0moutputs\u001b[0m\u001b[1;33m)\u001b[0m\u001b[1;33m]\u001b[0m\u001b[1;33m\u001b[0m\u001b[0m\n\u001b[0;32m   2677\u001b[0m \u001b[1;33m\u001b[0m\u001b[0m\n",
      "\u001b[1;32mc:\\users\\sabik\\virtualenvironment\\x3\\lib\\site-packages\\tensorflow\\python\\client\\session.py\u001b[0m in \u001b[0;36m__call__\u001b[1;34m(self, *args, **kwargs)\u001b[0m\n\u001b[0;32m   1437\u001b[0m           ret = tf_session.TF_SessionRunCallable(\n\u001b[0;32m   1438\u001b[0m               \u001b[0mself\u001b[0m\u001b[1;33m.\u001b[0m\u001b[0m_session\u001b[0m\u001b[1;33m.\u001b[0m\u001b[0m_session\u001b[0m\u001b[1;33m,\u001b[0m \u001b[0mself\u001b[0m\u001b[1;33m.\u001b[0m\u001b[0m_handle\u001b[0m\u001b[1;33m,\u001b[0m \u001b[0margs\u001b[0m\u001b[1;33m,\u001b[0m \u001b[0mstatus\u001b[0m\u001b[1;33m,\u001b[0m\u001b[1;33m\u001b[0m\u001b[0m\n\u001b[1;32m-> 1439\u001b[1;33m               run_metadata_ptr)\n\u001b[0m\u001b[0;32m   1440\u001b[0m         \u001b[1;32mif\u001b[0m \u001b[0mrun_metadata\u001b[0m\u001b[1;33m:\u001b[0m\u001b[1;33m\u001b[0m\u001b[0m\n\u001b[0;32m   1441\u001b[0m           \u001b[0mproto_data\u001b[0m \u001b[1;33m=\u001b[0m \u001b[0mtf_session\u001b[0m\u001b[1;33m.\u001b[0m\u001b[0mTF_GetBuffer\u001b[0m\u001b[1;33m(\u001b[0m\u001b[0mrun_metadata_ptr\u001b[0m\u001b[1;33m)\u001b[0m\u001b[1;33m\u001b[0m\u001b[0m\n",
      "\u001b[1;32mc:\\users\\sabik\\virtualenvironment\\x3\\lib\\site-packages\\tensorflow\\python\\framework\\errors_impl.py\u001b[0m in \u001b[0;36m__exit__\u001b[1;34m(self, type_arg, value_arg, traceback_arg)\u001b[0m\n\u001b[0;32m    526\u001b[0m             \u001b[1;32mNone\u001b[0m\u001b[1;33m,\u001b[0m \u001b[1;32mNone\u001b[0m\u001b[1;33m,\u001b[0m\u001b[1;33m\u001b[0m\u001b[0m\n\u001b[0;32m    527\u001b[0m             \u001b[0mcompat\u001b[0m\u001b[1;33m.\u001b[0m\u001b[0mas_text\u001b[0m\u001b[1;33m(\u001b[0m\u001b[0mc_api\u001b[0m\u001b[1;33m.\u001b[0m\u001b[0mTF_Message\u001b[0m\u001b[1;33m(\u001b[0m\u001b[0mself\u001b[0m\u001b[1;33m.\u001b[0m\u001b[0mstatus\u001b[0m\u001b[1;33m.\u001b[0m\u001b[0mstatus\u001b[0m\u001b[1;33m)\u001b[0m\u001b[1;33m)\u001b[0m\u001b[1;33m,\u001b[0m\u001b[1;33m\u001b[0m\u001b[0m\n\u001b[1;32m--> 528\u001b[1;33m             c_api.TF_GetCode(self.status.status))\n\u001b[0m\u001b[0;32m    529\u001b[0m     \u001b[1;31m# Delete the underlying status object from memory otherwise it stays alive\u001b[0m\u001b[1;33m\u001b[0m\u001b[1;33m\u001b[0m\u001b[0m\n\u001b[0;32m    530\u001b[0m     \u001b[1;31m# as there is a reference to status from this from the traceback due to\u001b[0m\u001b[1;33m\u001b[0m\u001b[1;33m\u001b[0m\u001b[0m\n",
      "\u001b[1;31mUnknownError\u001b[0m: Failed to get convolution algorithm. This is probably because cuDNN failed to initialize, so try looking to see if a warning log message was printed above.\n\t [[{{node conv2d_1/convolution}} = Conv2D[T=DT_FLOAT, data_format=\"NCHW\", dilations=[1, 1, 1, 1], padding=\"VALID\", strides=[1, 1, 1, 1], use_cudnn_on_gpu=true, _device=\"/job:localhost/replica:0/task:0/device:GPU:0\"](conv2d_1/convolution-0-TransposeNHWCToNCHW-LayoutOptimizer, conv2d_1/kernel/read)]]\n\t [[{{node dropout_2/cond/Merge/_267}} = _Recv[client_terminated=false, recv_device=\"/job:localhost/replica:0/task:0/device:CPU:0\", send_device=\"/job:localhost/replica:0/task:0/device:GPU:0\", send_device_incarnation=1, tensor_name=\"edge_98_dropout_2/cond/Merge\", tensor_type=DT_FLOAT, _device=\"/job:localhost/replica:0/task:0/device:CPU:0\"]()]]"
     ]
    }
   ],
   "source": [
    "mainEquation=[]\n",
    "for i in range(len(positionWithImages)):\n",
    "    pilImaged=Image.fromarray(positionWithImages[i])\n",
    "    x=resizeImages(pilImaged)\n",
    "    arr = np.expand_dims(x, axis=0)\n",
    "#     print(arr.shape)\n",
    "    equation=predictFromArray(arr)\n",
    "    mainEquation.append(equation)"
   ]
  },
  {
   "cell_type": "markdown",
   "metadata": {},
   "source": [
    "## EQUATION SOLVER CLASS"
   ]
  },
  {
   "cell_type": "code",
   "execution_count": null,
   "metadata": {},
   "outputs": [],
   "source": [
    "from sympy import *\n",
    "\n",
    "class Solver:\n",
    "\n",
    "    def __init__(self, equation):\n",
    "        self.equation = str(equation)\n",
    "        self.leftEqu = []\n",
    "\n",
    "    def convertEquationIntoGeneralForm(self):\n",
    "\n",
    "        leftSide, rightSide = '', ''\n",
    "        equalIndx = self.equation.index('=')\n",
    "        leftSide = self.equation[0:equalIndx]\n",
    "        rightSide = self.equation[equalIndx+1:len(self.equation)]\n",
    "\n",
    "        if rightSide[0].isalpha() or rightSide[0].isdigit():\n",
    "            rightSide = '+' + rightSide\n",
    "\n",
    "        for i in range(0, len(rightSide)):\n",
    "            if rightSide[i] == '+':\n",
    "                rightSide = rightSide[0:i] + '-' + rightSide[i+1:len(rightSide)]\n",
    "            elif rightSide[i] == '-':\n",
    "                rightSide = rightSide[0:i] + '+' + rightSide[i+1:len(rightSide)]\n",
    "            leftSide += rightSide[i]\n",
    "\n",
    "        self.equation = leftSide + '=' + '0'\n",
    "        print('Final Equation is {}'.format(self.equation))\n",
    "        self.leftEqu = leftSide\n",
    "\n",
    "    def solveEquation(self):\n",
    "\n",
    "        self.convertEquationIntoGeneralForm()\n",
    "        sympy_eq = sympify(\"Eq(\" + self.equation.replace(\"=\", \",\") + \")\")\n",
    "        roots = solve(sympy_eq)\n",
    "        print(roots)\n",
    "\n",
    "import numpy\n",
    "from matplotlib import pyplot as plt\n",
    "\n",
    "class Graph:\n",
    "\n",
    "    def __init__(self, equation):\n",
    "        self.graphEquation = 'y = ' + self.yToX(equation)\n",
    "        self.equation = equation + '+'\n",
    "        self.confirmAllCoefficient()\n",
    "        self.convertEquStringToInt()\n",
    "        x = numpy.linspace(-10, 10, 100)\n",
    "        y = self.getTheFunction(x)\n",
    "        self.drawGraph(x, y)\n",
    "\n",
    "    def yToX(self, equation_param):\n",
    "        equation_y = equation_param\n",
    "        for i in range(0, len(equation_y)):\n",
    "            if equation_y[i].isalpha() and equation_y[i] == 'y':\n",
    "                equation_y = equation_y[0:i] + 'x' + equation_y[i+1:len(equation_y)]\n",
    "        return equation_y\n",
    "\n",
    "    def drawGraph(self, x, y):\n",
    "        plt.plot(x, y)\n",
    "        plt.ylabel(\"y\")\n",
    "        plt.xlabel(\"x\")\n",
    "        plt.title(self.graphEquation)\n",
    "        plt.show()\n",
    "\n",
    "    def confirmAllCoefficient(self):\n",
    "        if self.equation[0].isalpha() or self.equation[0].isdigit():\n",
    "            self.equation = '+' + self.equation\n",
    "        tempEqu = ''\n",
    "        for i in range(0, len(self.equation)):\n",
    "            condition = self.equation[i].isalpha()\n",
    "            condition &= not self.equation[i-1].isdigit()\n",
    "            condition &= not self.equation[i-1] == '*'\n",
    "            if condition:\n",
    "                tempEqu += '1'\n",
    "                tempEqu += '*'\n",
    "            tempEqu += self.equation[i]\n",
    "        self.equation = tempEqu\n",
    "        print('With Coefficient Expression = {}'.format(self.equation))\n",
    "\n",
    "    def getTheFunction(self, x):\n",
    "        y = 0\n",
    "        for i in range(0, len(self.equation)):\n",
    "            if isinstance(self.equation[i], int) and not self.equation[i-1] == '*':\n",
    "                sign = 1 if self.equation[i - 1] == '+' else -1\n",
    "                if not self.equation[i+1] == '*':\n",
    "                    y += sign * self.equation[i]\n",
    "                else:\n",
    "                    if self.equation[i+3] == '*':\n",
    "                        power = self.equation[i+5]\n",
    "                        y += sign * self.equation[i] * (x**power)\n",
    "                    else:\n",
    "                        y += sign * self.equation[i] * x\n",
    "        return y\n",
    "\n",
    "    def convertEquStringToInt(self):\n",
    "        temporary = []\n",
    "        i = 0\n",
    "        while i < len(self.equation):\n",
    "            if self.equation[i].isdigit():\n",
    "                start, end = i, -1\n",
    "                for k in range(start+1, len(self.equation)):\n",
    "                    if not self.equation[k].isdigit():\n",
    "                        end = k\n",
    "                        break\n",
    "                temporary.append(int(self.equation[start:end]))\n",
    "                i += (end-start)-1\n",
    "            else:\n",
    "                temporary.append(self.equation[i])\n",
    "            i += 1\n",
    "        print('Temporary List = {}'.format(temporary))\n",
    "        self.equation = temporary\n",
    "\n",
    "\n",
    "\n",
    "# -7+3*x**2+5*x-x**2=6*x+x**2+11+6*x\n",
    "# -x**4+12-3*x**2=2*x-10\n",
    "# 7-3*x**2-5*x+x**2=-6*x-x**2-11-6*x"
   ]
  },
  {
   "cell_type": "markdown",
   "metadata": {},
   "source": [
    "## Reconstruct the equation"
   ]
  },
  {
   "cell_type": "code",
   "execution_count": null,
   "metadata": {},
   "outputs": [],
   "source": [
    "\n",
    "concatenatedString=\"\"\n",
    "for i in range(len(mainEquation)):\n",
    "    a=mainEquation[i]\n",
    "    if(a.isdigit()==False and a.isalpha()==False):\n",
    "        if(a==mainEquation[i+1]=='-'):\n",
    "            concatenatedString+='='\n",
    "        else:\n",
    "            concatenatedString+=a\n",
    "    if(a.isalpha()==True):\n",
    "        if(i>0):\n",
    "            if(mainEquation[i-1].isdigit()):\n",
    "                concatenatedString+=\"*\"+a\n",
    "            else:\n",
    "                concatenatedString+=a\n",
    "        else:\n",
    "            concatenatedString+=a\n",
    "    if(a.isdigit()==True):\n",
    "        if(i>0):\n",
    "            if(mainEquation[i-1].isdigit()):\n",
    "                concatenatedString+=a\n",
    "            elif(mainEquation[i-1].isalpha()):\n",
    "                concatenatedString+=\"^\"+a\n",
    "            else:\n",
    "                concatenatedString+=a\n",
    "        else:\n",
    "            concatenatedString+=a\n",
    "            \n",
    "l=list(concatenatedString)   \n",
    "for i in range(len(l)):\n",
    "    if(l[i]==\"=\"):\n",
    "        newStr=l[:i+1]+l[i+2:]\n",
    "\n",
    "equ=\"\"\n",
    "for i in newStr:\n",
    "    equ+=i\n",
    "\n",
    "    \n",
    "    \n",
    "print(equ)\n"
   ]
  },
  {
   "cell_type": "markdown",
   "metadata": {},
   "source": [
    "\n",
    "## Show results"
   ]
  },
  {
   "cell_type": "code",
   "execution_count": null,
   "metadata": {},
   "outputs": [],
   "source": [
    "equation=equ\n",
    "solver = Solver(equation)\n",
    "solver.solveEquation()\n",
    "Graph(solver.leftEqu)"
   ]
  },
  {
   "cell_type": "markdown",
   "metadata": {},
   "source": [
    "## Remove the temporary png file from directory\n"
   ]
  },
  {
   "cell_type": "code",
   "execution_count": null,
   "metadata": {},
   "outputs": [],
   "source": [
    "import os \n",
    "os.remove(\"temp.png\")"
   ]
  },
  {
   "cell_type": "code",
   "execution_count": null,
   "metadata": {},
   "outputs": [],
   "source": []
  }
 ],
 "metadata": {
  "kernelspec": {
   "display_name": "Python 3",
   "language": "python",
   "name": "python3"
  },
  "language_info": {
   "codemirror_mode": {
    "name": "ipython",
    "version": 3
   },
   "file_extension": ".py",
   "mimetype": "text/x-python",
   "name": "python",
   "nbconvert_exporter": "python",
   "pygments_lexer": "ipython3",
   "version": "3.6.4"
  }
 },
 "nbformat": 4,
 "nbformat_minor": 2
}
